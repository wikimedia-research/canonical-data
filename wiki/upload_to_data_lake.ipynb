{
 "cells": [
  {
   "cell_type": "markdown",
   "id": "8bb62d6d-9873-420c-8cdc-d72ae277618a",
   "metadata": {},
   "source": [
    "Note: following these instructions require permissions to sudo as `analytics-product`, which owns the `canonical_data` database."
   ]
  },
  {
   "cell_type": "code",
   "execution_count": 1,
   "id": "d95cb734-2034-48fb-8743-8eb736f517ec",
   "metadata": {},
   "outputs": [],
   "source": [
    "import wmfdata as wmf"
   ]
  },
  {
   "cell_type": "markdown",
   "id": "cd1e31fd-b006-4b03-80c9-0ccbd03dbc35",
   "metadata": {},
   "source": [
    "Start by loading the dataset into your own database."
   ]
  },
  {
   "cell_type": "code",
   "execution_count": 2,
   "id": "be187b2f-e46b-4ab8-9723-1bc2fd24397d",
   "metadata": {},
   "outputs": [
    {
     "name": "stderr",
     "output_type": "stream",
     "text": [
      "/home/bearloga/.conda/envs/2023-02-22T18.39.24_bearloga/lib/python3.10/site-packages/pandas/io/sql.py:761: UserWarning: pandas only support SQLAlchemy connectable(engine/connection) ordatabase string URI or sqlite3 DBAPI2 connectionother DBAPI2 objects are not tested, please consider using SQLAlchemy\n",
      "  warnings.warn(\n"
     ]
    }
   ],
   "source": [
    "MY_DATABASE = \"bearloga\"\n",
    "\n",
    "wmf.hive.load_csv(\n",
    "    \"wikis.tsv\",\n",
    "    field_spec=\"\"\"\n",
    "        database_code   STRING  COMMENT 'Same as wiki_db in MediaWiki History, e.g. enwiki', \n",
    "        domain_name     STRING  COMMENT 'e.g. en.wikipedia.org', \n",
    "        database_group  STRING  COMMENT 'e.g. wikipedia', \n",
    "        language_code   STRING  COMMENT 'e.g. en',\n",
    "        language_name   STRING  COMMENT 'e.g. English',\n",
    "        status          STRING  COMMENT 'open/closed',\n",
    "        visibility      STRING  COMMENT 'public/private',\n",
    "        editability     STRING  COMMENT 'public/private',\n",
    "        english_name    STRING  COMMENT 'e.g. English Wikipedia'\n",
    "    \"\"\",\n",
    "    db_name=MY_DATABASE,\n",
    "    table_name=\"wikis\",\n",
    "    sep=\"\\t\"\n",
    ")"
   ]
  },
  {
   "cell_type": "markdown",
   "id": "8341a3d2-21cc-4ceb-b36b-0e06159e7bff",
   "metadata": {},
   "source": [
    "Now, since it's not possible to run `sudo` commands in our Jupyter environment, in a plain SSH connection, run:\n",
    "\n",
    "```\n",
    "sudo -u analytics-product kerberos-run-command analytics-product hive -e \"DROP TABLE IF EXISTS canonical_data.wikis\"\n",
    "```\n",
    "\n",
    "And in the same way, run the following command:"
   ]
  },
  {
   "cell_type": "code",
   "execution_count": 3,
   "id": "328830de-a480-40d5-a057-90b25f20c6a1",
   "metadata": {},
   "outputs": [
    {
     "name": "stdout",
     "output_type": "stream",
     "text": [
      "sudo -u analytics-product kerberos-run-command analytics-product hive -e 'CREATE TABLE canonical_data.wikis AS SELECT * FROM bearloga.wikis'\n"
     ]
    }
   ],
   "source": [
    "print(\n",
    "    \"sudo -u analytics-product kerberos-run-command analytics-product \"\n",
    "    f\"hive -e 'CREATE TABLE canonical_data.wikis AS SELECT * FROM {MY_DATABASE}.wikis'\"\n",
    ")"
   ]
  }
 ],
 "metadata": {
  "kernelspec": {
   "display_name": "Python 3 (ipykernel)",
   "language": "python",
   "name": "python3"
  },
  "language_info": {
   "codemirror_mode": {
    "name": "ipython",
    "version": 3
   },
   "file_extension": ".py",
   "mimetype": "text/x-python",
   "name": "python",
   "nbconvert_exporter": "python",
   "pygments_lexer": "ipython3",
   "version": "3.10.8"
  }
 },
 "nbformat": 4,
 "nbformat_minor": 5
}
