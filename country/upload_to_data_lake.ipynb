{
 "cells": [
  {
   "cell_type": "markdown",
   "metadata": {},
   "source": [
    "Note: following these instructions require permissions to sudo as `analytics-product`, which owns the `canonical_data` database."
   ]
  },
  {
   "cell_type": "code",
   "execution_count": 1,
   "metadata": {},
   "outputs": [
    {
     "name": "stderr",
     "output_type": "stream",
     "text": [
      "Error while loading conda entry point: conda-libmamba-solver (libarchive.so.19: cannot open shared object file: No such file or directory)\n"
     ]
    }
   ],
   "source": [
    "import wmfdata as wmf"
   ]
  },
  {
   "cell_type": "markdown",
   "metadata": {},
   "source": [
    "Start by loading the dataset into your own database."
   ]
  },
  {
   "cell_type": "code",
   "execution_count": 3,
   "metadata": {},
   "outputs": [
    {
     "name": "stderr",
     "output_type": "stream",
     "text": [
      "/srv/home/nshahquinn-wmf/wmfdata-python/wmfdata/hive.py:46: UserWarning: pandas only supports SQLAlchemy connectable (engine/connection) or database string URI or sqlite3 DBAPI2 connection. Other DBAPI2 objects are not tested. Please consider using SQLAlchemy.\n",
      "  response = pd.read_sql(command, conn)\n"
     ]
    }
   ],
   "source": [
    "MY_DATABASE = \"nshahquinn\"\n",
    "\n",
    "wmf.hive.load_csv(\n",
    "    \"countries.tsv\",\n",
    "    field_spec=\"\"\"\n",
    "        name               STRING  COMMENT 'Common English name',\n",
    "        iso_code           STRING  COMMENT 'ISO 3166-1 two-letter code',\n",
    "        iso_alpha3_code    STRING  COMMENT 'ISO 3166-1 three-letter code',\n",
    "        wikidata_id        STRING  COMMENT 'Wikidata QID',\n",
    "        is_protected       BOOLEAN COMMENT 'Whether the country's risk score ≥60',\n",
    "        risk_score         FLOAT   COMMENT 'Risk score derived from Freedom House / Reporters Without Borders',\n",
    "        risk_designation   STRING  COMMENT 'Risk designation according to [[foundation:Country_and_Territory_Protection_List]]',\n",
    "        maxmind_continent  STRING  COMMENT 'Continent according to MaxMind geolocation',\n",
    "        un_continent       STRING  COMMENT 'Continent according to the United Nations Geoscheme',\n",
    "        un_subcontinent    STRING  COMMENT 'Subcontinent according to the United Nations Geoscheme',\n",
    "        un_m49_code        INTEGER COMMENT 'M49 code defined by the United Nations',\n",
    "        wikimedia_region   STRING  COMMENT 'Region according to 2022 Wikimedia classification',\n",
    "        grant_committee_region\n",
    "                           STRING  COMMENT 'Region according to a pre-2023 WMF grantmaking classification',\n",
    "        form_990_region    STRING COMMENT 'Region according to classification used in US tax form 990',\n",
    "        economic_region    STRING  COMMENT 'Global North or Global South',\n",
    "        emerging_classification\n",
    "                           STRING  COMMENT 'Classification of the Wikimedia contributor community',\n",
    "        is_eu              BOOLEAN COMMENT 'Whether the country belongs to the European Union',\n",
    "        is_un_member       BOOLEAN COMMENT 'Whether the country is a member of the United Nations',\n",
    "        is_un_data_entity  BOOLEAN COMMENT 'Whether the United Nations has data on the country',\n",
    "        is_imf_data_entity BOOLEAN COMMENT 'Whether the International Monetary Fund has data on the country',\n",
    "        is_world_bank_data_entity\n",
    "                           BOOLEAN COMMENT 'Whether the World Bank has data on the country',\n",
    "        is_penn_world_table_data_entity\n",
    "                           BOOLEAN COMMENT 'Whether the Penn World Table has data on the country',\n",
    "        market_research_classification\n",
    "                           STRING COMMENT 'Classification based on WMF market research'\n",
    "    \"\"\",\n",
    "    db_name=MY_DATABASE,\n",
    "    table_name=\"countries\",\n",
    "    sep=\"\\t\"\n",
    ")"
   ]
  },
  {
   "cell_type": "markdown",
   "metadata": {},
   "source": [
    "Now, since it's not possible to run `sudo` commands in our Jupyter environment, in a plain SSH connection, run:\n",
    "\n",
    "```\n",
    "sudo -u analytics-product kerberos-run-command analytics-product hive -e \"DROP TABLE IF EXISTS canonical_data.countries\"\n",
    "```"
   ]
  },
  {
   "cell_type": "markdown",
   "metadata": {},
   "source": [
    "And in the same way, run the following command:"
   ]
  },
  {
   "cell_type": "code",
   "execution_count": 4,
   "metadata": {},
   "outputs": [
    {
     "name": "stdout",
     "output_type": "stream",
     "text": [
      "sudo -u analytics-product kerberos-run-command analytics-product hive -e 'CREATE TABLE canonical_data.countries AS SELECT * FROM nshahquinn.countries'\n"
     ]
    }
   ],
   "source": [
    "print(\n",
    "    \"sudo -u analytics-product kerberos-run-command analytics-product \"\n",
    "    f\"hive -e 'CREATE TABLE canonical_data.countries AS SELECT * FROM {MY_DATABASE}.countries'\"\n",
    ")"
   ]
  }
 ],
 "metadata": {
  "kernelspec": {
   "display_name": "Python 3 (ipykernel)",
   "language": "python",
   "name": "python3"
  },
  "language_info": {
   "codemirror_mode": {
    "name": "ipython",
    "version": 3
   },
   "file_extension": ".py",
   "mimetype": "text/x-python",
   "name": "python",
   "nbconvert_exporter": "python",
   "pygments_lexer": "ipython3",
   "version": "3.10.12"
  }
 },
 "nbformat": 4,
 "nbformat_minor": 4
}
