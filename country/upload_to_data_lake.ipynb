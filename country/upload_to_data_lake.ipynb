{
 "cells": [
  {
   "cell_type": "markdown",
   "metadata": {},
   "source": [
    "Note: following these instructions require permissions to sudo as `analytics-product`, which owns the `canonical_data` database."
   ]
  },
  {
   "cell_type": "code",
   "execution_count": 1,
   "metadata": {},
   "outputs": [],
   "source": [
    "import wmfdata as wmf"
   ]
  },
  {
   "cell_type": "markdown",
   "metadata": {},
   "source": [
    "Start by loading the dataset into your own database."
   ]
  },
  {
   "cell_type": "code",
   "execution_count": 2,
   "metadata": {},
   "outputs": [
    {
     "name": "stderr",
     "output_type": "stream",
     "text": [
      "/home/bearloga/.conda/envs/2023-02-22T18.39.24_bearloga/lib/python3.10/site-packages/pandas/io/sql.py:761: UserWarning: pandas only support SQLAlchemy connectable(engine/connection) ordatabase string URI or sqlite3 DBAPI2 connectionother DBAPI2 objects are not tested, please consider using SQLAlchemy\n",
      "  warnings.warn(\n"
     ]
    }
   ],
   "source": [
    "MY_DATABASE = \"bearloga\"\n",
    "\n",
    "wmf.hive.load_csv(\n",
    "    \"countries.tsv\",\n",
    "    field_spec=\"\"\"\n",
    "        name               STRING  COMMENT 'Country name, aligned with the article on English Wikipedia',\n",
    "        iso_code           STRING  COMMENT 'ISO 3166-1 two-letter country code',\n",
    "        economic_region    STRING  COMMENT 'Global South/North, according to [[en:Global North and Global South]]',\n",
    "        maxmind_continent  STRING  COMMENT 'Continent, according to MaxMind databases',\n",
    "        is_protected       BOOLEAN COMMENT 'Whether the country appears in [[wikitech:Country_protection_list]]',\n",
    "        is_eu              BOOLEAN COMMENT 'Whether the country belongs to the European Union'\n",
    "    \"\"\",\n",
    "    db_name=MY_DATABASE,\n",
    "    table_name=\"countries\",\n",
    "    sep=\"\\t\"\n",
    ")"
   ]
  },
  {
   "cell_type": "markdown",
   "metadata": {},
   "source": [
    "Now, since it's not possible to run `sudo` commands in our Jupyter environment, in a plain SSH connection, run:\n",
    "\n",
    "```\n",
    "sudo -u analytics-product kerberos-run-command analytics-product hive -e \"DROP TABLE IF EXISTS canonical_data.countries\"\n",
    "```"
   ]
  },
  {
   "cell_type": "markdown",
   "metadata": {},
   "source": [
    "And in the same way, run the following command:"
   ]
  },
  {
   "cell_type": "code",
   "execution_count": 3,
   "metadata": {},
   "outputs": [
    {
     "name": "stdout",
     "output_type": "stream",
     "text": [
      "sudo -u analytics-product kerberos-run-command analytics-product hive -e 'CREATE TABLE canonical_data.countries AS SELECT * FROM bearloga.countries'\n"
     ]
    }
   ],
   "source": [
    "print(\n",
    "    \"sudo -u analytics-product kerberos-run-command analytics-product \"\n",
    "    f\"hive -e 'CREATE TABLE canonical_data.countries AS SELECT * FROM {MY_DATABASE}.countries'\"\n",
    ")"
   ]
  }
 ],
 "metadata": {
  "kernelspec": {
   "display_name": "Python 3 (ipykernel)",
   "language": "python",
   "name": "python3"
  },
  "language_info": {
   "codemirror_mode": {
    "name": "ipython",
    "version": 3
   },
   "file_extension": ".py",
   "mimetype": "text/x-python",
   "name": "python",
   "nbconvert_exporter": "python",
   "pygments_lexer": "ipython3",
   "version": "3.10.8"
  }
 },
 "nbformat": 4,
 "nbformat_minor": 4
}
